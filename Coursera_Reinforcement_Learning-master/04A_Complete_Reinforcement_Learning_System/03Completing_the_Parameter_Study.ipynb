{
 "cells": [
  {
   "cell_type": "markdown",
   "source": [
    "# Assignment 3 - Completing the Parameter Study\n",
    "\n",
    "Welcome to Course 4 Programming Assignment 3. In the previous assignments, you completed the implementation of the Lunar Lander environment and implemented an agent with neural networks and the Adam optimizer. As you may remember, we discussed a number of key meta-parameters that affect the performance of the agent (e.g. the step-size, the temperature parameter for the softmax policy, the capacity of the replay buffer). We can use rules of thumb for picking reasonable values for these meta-parameters. However, we can also study the impact of these meta-parameters on the performance of the agent to gain insight.\n",
    "\n",
    "In this assignment, you will conduct a careful experiment analyzing performance of an agent, under different values of the step-size parameter.\n",
    "\n",
    "**In this assignment, you will:**\n",
    "\n",
    "- write a script to run your agent and environment on a set of parameters, to determine performance across these parameters.\n",
    "- gain insight into the impact of the step-size parameter on agent performance by examining its parameter sensitivity curve."
   ],
   "metadata": {
    "deletable": false,
    "editable": false,
    "nbgrader": {
     "checksum": "af7aaaea8c2b14deb2496c07f500f616",
     "grade": false,
     "grade_id": "cell-b37957442e1fbd8b",
     "locked": true,
     "schema_version": 1,
     "solution": false
    }
   }
  },
  {
   "cell_type": "markdown",
   "source": [
    "## Packages\n",
    "\n",
    "- [numpy](www.numpy.org) : Fundamental package for scientific computing with Python.\n",
    "- [matplotlib](http://matplotlib.org) : Library for plotting graphs in Python.\n",
    "- [RL-Glue](http://www.jmlr.org/papers/v10/tanner09a.html) : Library for reinforcement learning experiments.\n",
    "- [tqdm](https://tqdm.github.io/) : A package to display progress bar when running experiments"
   ],
   "metadata": {
    "deletable": false,
    "editable": false,
    "nbgrader": {
     "checksum": "619bb4ae4c61f3c5d28bab13a2deaea5",
     "grade": false,
     "grade_id": "cell-9b62cd317dfd157f",
     "locked": true,
     "schema_version": 1,
     "solution": false
    }
   }
  },
  {
   "cell_type": "code",
   "execution_count": 1,
   "source": [
    "# Do not modify this cell!\r\n",
    "\r\n",
    "# Import necessary libraries\r\n",
    "# DO NOT IMPORT OTHER LIBRARIES - This will break the autograder.\r\n",
    "\r\n",
    "import pylance.numpy as np\r\n",
    "import matplotlib.pyplot as plt\r\n",
    "%matplotlib inline\r\n",
    "\r\n",
    "import os\r\n",
    "from tqdm import tqdm\r\n",
    "\r\n",
    "from rl_glue import RLGlue\r\n",
    "from environment import BaseEnvironment\r\n",
    "from agent import BaseAgent\r\n",
    "from dummy_environment import DummyEnvironment\r\n",
    "from dummy_agent import DummyAgent\r\n"
   ],
   "outputs": [
    {
     "output_type": "error",
     "ename": "ModuleNotFoundError",
     "evalue": "No module named 'numpy'",
     "traceback": [
      "\u001b[1;31m---------------------------------------------------------------------------\u001b[0m",
      "\u001b[1;31mModuleNotFoundError\u001b[0m                       Traceback (most recent call last)",
      "\u001b[1;32m~\\AppData\\Local\\Temp/ipykernel_13148/1459410720.py\u001b[0m in \u001b[0;36m<module>\u001b[1;34m\u001b[0m\n\u001b[0;32m      3\u001b[0m \u001b[1;31m# Import necessary libraries\u001b[0m\u001b[1;33m\u001b[0m\u001b[1;33m\u001b[0m\u001b[1;33m\u001b[0m\u001b[0m\n\u001b[0;32m      4\u001b[0m \u001b[1;31m# DO NOT IMPORT OTHER LIBRARIES - This will break the autograder.\u001b[0m\u001b[1;33m\u001b[0m\u001b[1;33m\u001b[0m\u001b[1;33m\u001b[0m\u001b[0m\n\u001b[1;32m----> 5\u001b[1;33m \u001b[1;32mimport\u001b[0m \u001b[0mnumpy\u001b[0m \u001b[1;32mas\u001b[0m \u001b[0mnp\u001b[0m\u001b[1;33m\u001b[0m\u001b[1;33m\u001b[0m\u001b[0m\n\u001b[0m\u001b[0;32m      6\u001b[0m \u001b[1;32mimport\u001b[0m \u001b[0mmatplotlib\u001b[0m\u001b[1;33m.\u001b[0m\u001b[0mpyplot\u001b[0m \u001b[1;32mas\u001b[0m \u001b[0mplt\u001b[0m\u001b[1;33m\u001b[0m\u001b[1;33m\u001b[0m\u001b[0m\n\u001b[0;32m      7\u001b[0m \u001b[0mget_ipython\u001b[0m\u001b[1;33m(\u001b[0m\u001b[1;33m)\u001b[0m\u001b[1;33m.\u001b[0m\u001b[0mrun_line_magic\u001b[0m\u001b[1;33m(\u001b[0m\u001b[1;34m'matplotlib'\u001b[0m\u001b[1;33m,\u001b[0m \u001b[1;34m'inline'\u001b[0m\u001b[1;33m)\u001b[0m\u001b[1;33m\u001b[0m\u001b[1;33m\u001b[0m\u001b[0m\n",
      "\u001b[1;31mModuleNotFoundError\u001b[0m: No module named 'numpy'"
     ]
    }
   ],
   "metadata": {
    "deletable": false,
    "editable": false,
    "nbgrader": {
     "checksum": "7bfa3a156b7eaccdbd19dc9bdad0efc3",
     "grade": false,
     "grade_id": "cell-b48b54531e30224f",
     "locked": true,
     "schema_version": 1,
     "solution": false
    }
   }
  },
  {
   "cell_type": "markdown",
   "source": [
    "## Section 1: Write Parameter Study Script\n",
    "\n",
    "In this section, you will write a script for performing parameter studies. You will implement the `run_experiment()` function. This function takes an environment and agent and performs a parameter study on the step-size and termperature parameters."
   ],
   "metadata": {
    "deletable": false,
    "editable": false,
    "nbgrader": {
     "checksum": "29e149431bdee8567eaa8b98232f4e14",
     "grade": false,
     "grade_id": "cell-f8442d4f392c0918",
     "locked": true,
     "schema_version": 1,
     "solution": false
    }
   }
  },
  {
   "cell_type": "code",
   "execution_count": 2,
   "source": [
    "#GRADED FUNCTION: [parameter study]\r\n",
    "\r\n",
    "def run_experiment(environment, agent, environment_parameters, agent_parameters, experiment_parameters):\r\n",
    "    \r\n",
    "    \"\"\"\r\n",
    "    Assume environment_parameters dict contains:\r\n",
    "    {\r\n",
    "        input_dim: integer,\r\n",
    "        num_actions: integer,\r\n",
    "        discount_factor: float\r\n",
    "    }\r\n",
    "    \r\n",
    "    Assume agent_parameters dict contains:\r\n",
    "    {\r\n",
    "        step_size: 1D numpy array of floats,\r\n",
    "        tau: 1D numpy array of floats\r\n",
    "    }\r\n",
    "    \r\n",
    "    Assume experiment_parameters dict contains:\r\n",
    "    {\r\n",
    "        num_runs: integer,\r\n",
    "        num_episodes: integer\r\n",
    "    }    \r\n",
    "    \"\"\"\r\n",
    "    \r\n",
    "    ### Instantiate rl_glue from RLGlue    \r\n",
    "    rl_glue = RLGlue(environment, agent)\r\n",
    "\r\n",
    "    os.system('sleep 1') # to prevent tqdm printing out-of-order\r\n",
    "    \r\n",
    "    ### START CODE HERE\r\n",
    "    \r\n",
    "     ### Initialize agent_sum_reward to zero in the form of a numpy array \r\n",
    "    # with shape (number of values for tau, number of step-sizes, number of runs, number of episodes)\r\n",
    "    agent_sum_reward = np.zeros((len(agent_parameters[\"tau\"]), len(agent_parameters[\"step_size\"]),\r\n",
    "                                 experiment_parameters[\"num_runs\"], experiment_parameters[\"num_episodes\"]))\r\n",
    "    \r\n",
    "    ### Replace the Nones with the correct values in the rest of the code\r\n",
    "\r\n",
    "    # for loop over different values of tau\r\n",
    "    # tqdm is used to show a progress bar for completing the parameter study\r\n",
    "    for i in tqdm(range(len(agent_parameters[\"tau\"]))):\r\n",
    "    \r\n",
    "        # for loop over different values of the step-size\r\n",
    "        for j in range(len(agent_parameters[\"step_size\"])): \r\n",
    "\r\n",
    "            ### Specify env_info \r\n",
    "            env_info = {}\r\n",
    "\r\n",
    "            ### Specify agent_info\r\n",
    "            agent_info = {\"num_actions\": environment_parameters[\"num_actions\"],\r\n",
    "                          \"input_dim\": environment_parameters[\"input_dim\"],\r\n",
    "                          \"discount_factor\": environment_parameters[\"discount_factor\"],\r\n",
    "                          \"tau\": agent_parameters[\"tau\"][i],\r\n",
    "                          \"step_size\": agent_parameters[\"step_size\"][j]}\r\n",
    "\r\n",
    "            # for loop over runs\r\n",
    "            for run in range(experiment_parameters[\"num_runs\"]): \r\n",
    "                \r\n",
    "                # Set the seed\r\n",
    "                agent_info[\"seed\"] = agent_parameters[\"seed\"] * experiment_parameters[\"num_runs\"] + run\r\n",
    "                \r\n",
    "                # Beginning of the run            \r\n",
    "                rl_glue.rl_init(agent_info, env_info)\r\n",
    "\r\n",
    "                for episode in range(experiment_parameters[\"num_episodes\"]): \r\n",
    "                    \r\n",
    "                    # Run episode\r\n",
    "                    rl_glue.rl_episode(0) # no step limit\r\n",
    "\r\n",
    "                    ### Store sum of reward\r\n",
    "                    agent_sum_reward[i, j, run, episode] = rl_glue.rl_agent_message(\"get_sum_reward\")\r\n",
    "\r\n",
    "            if not os.path.exists('results'):\r\n",
    "                    os.makedirs('results')\r\n",
    "\r\n",
    "            save_name = \"{}\".format(rl_glue.agent.name).replace('.','')\r\n",
    "\r\n",
    "            # save sum reward\r\n",
    "            np.save(\"results/sum_reward_{}\".format(save_name), agent_sum_reward)\r\n",
    "\r\n",
    "    ### END CODE HERE\r\n",
    "    "
   ],
   "outputs": [],
   "metadata": {
    "deletable": false,
    "nbgrader": {
     "checksum": "7aeae683dd5fd3bcfc7fa066b233a974",
     "grade": false,
     "grade_id": "cell-2a279281a516eb2c",
     "locked": false,
     "schema_version": 1,
     "solution": true
    }
   }
  },
  {
   "cell_type": "markdown",
   "source": [
    "Run the following code to test your implementation of `run_experiment()` given a dummy agent and a dummy environment for 100 runs, 100 episodes, 12 values of the step-size, and 4 values of $\\tau$:"
   ],
   "metadata": {
    "deletable": false,
    "editable": false,
    "nbgrader": {
     "checksum": "df5e20c532d780d5353f044cefabda89",
     "grade": false,
     "grade_id": "cell-bca56669ed9bbce9",
     "locked": true,
     "schema_version": 1,
     "solution": false
    }
   }
  },
  {
   "cell_type": "code",
   "execution_count": 3,
   "source": [
    "# Experiment parameters\n",
    "experiment_parameters = {\n",
    "    \"num_runs\" : 100,\n",
    "    \"num_episodes\" : 100,\n",
    "}\n",
    "\n",
    "# Environment parameters\n",
    "environment_parameters = {\n",
    "    \"input_dim\" : 8,\n",
    "    \"num_actions\": 4, \n",
    "    \"discount_factor\" : 0.99\n",
    "}\n",
    "\n",
    "agent_parameters = {\n",
    "    \"step_size\": 3e-5 * np.power(2.0, np.array([-6, -5, -4, -3, -2, -1, 0, 1, 2, 3, 4, 5])),\n",
    "    \"tau\": np.array([0.001, 0.01, 0.1, 1.0]),\n",
    "    \"seed\": 0\n",
    "}\n",
    "\n",
    "test_env = DummyEnvironment\n",
    "test_agent = DummyAgent\n",
    "\n",
    "run_experiment(test_env, \n",
    "               test_agent, \n",
    "               environment_parameters, \n",
    "               agent_parameters, \n",
    "               experiment_parameters)\n",
    "\n",
    "sum_reward_dummy_agent = np.load(\"results/sum_reward_dummy_agent.npy\")\n",
    "sum_reward_dummy_agent_answer = np.load(\"asserts/sum_reward_dummy_agent.npy\")\n",
    "assert(np.allclose(sum_reward_dummy_agent, sum_reward_dummy_agent_answer))\n",
    "\n",
    "print(\"Passed the assert!\")\n"
   ],
   "outputs": [
    {
     "output_type": "stream",
     "name": "stderr",
     "text": [
      "100%|██████████| 4/4 [00:12<00:00,  3.23s/it]"
     ]
    },
    {
     "output_type": "stream",
     "name": "stdout",
     "text": [
      "Passed the assert!\n"
     ]
    },
    {
     "output_type": "stream",
     "name": "stderr",
     "text": [
      "\n"
     ]
    }
   ],
   "metadata": {
    "deletable": false,
    "editable": false,
    "nbgrader": {
     "checksum": "4a6868062d024122787399fe9029e494",
     "grade": true,
     "grade_id": "cell-56541717f4f15d20",
     "locked": true,
     "points": 100,
     "schema_version": 1,
     "solution": false
    }
   }
  },
  {
   "cell_type": "markdown",
   "source": [
    "## Section 2: The Parameter Study for the Agent with Neural Network and Adam Optimizer\n",
    "\n",
    "Now that you implemented run_experiment() for a dummy agent, let’s examine the performance of the agent that you implemented in Assignment 2 for different values of the step-size parameter. To do so, we can use parameter sensitivity curves. As you know, in parameter sensitivity curves, on the y-axis, we have our performance measure and on the x-axis, we have the values of the parameter we are testing. We will use the average of returns over episodes, averaged over 30 runs as our performance metric.\n",
    "\n",
    "Recall that we used a step-size of 10^{-3}$ in Assignment 2 and got reasonable performance. We can use this value to construct a sensible set of step-sizes for our parameter study by multiplying it with powers of two:\n",
    "\n",
    "$10^{-3} \\times 2^x$ where $x \\in \\{-9, -8, -7, -6, -5, -4, -3, -2, -1, 0, 1, 2, 3\\}$\n",
    "\n",
    "We use powers of two because doing so produces smaller increments in the step-size for smaller step-size values and larger jumps for larger step-sizes. \n",
    "\n",
    "Let’s take a look at the results for this set of step-sizes.\n",
    "\n",
    "<img src=\"parameter_study.png\" alt=\"Drawing\" style=\"width: 500px;\"/>\n",
    "\n",
    "Observe that the best performance is achieved for step-sizes in range $[10^{-4}, 10^{-3}]$. This includes the step-size that we used in Assignment 2! The performance degrades for higher and lower step-size values. Since the range of step-sizes for which the agent performs well is not broad, choosing a good step-size is challenging for this problem.\n",
    "\n",
    "As we mentioned above, we used the average of returns over episodes, averaged over 30 runs as our performance metric. This metric gives an overall estimation of the agent's performance over the episodes. If we want to study the effect of the step-size parameter on the agent's early performance or final performance, we should use different metrics. For example, to study the effect of the step-size parameter on early performance, we could use the average of returns over the first 100 episodes, averaged over 30 runs. When conducting a parameter study, you may consider these for defining your performance metric!"
   ],
   "metadata": {
    "deletable": false,
    "editable": false,
    "nbgrader": {
     "checksum": "00c09538f65dff6afe75f359870f5126",
     "grade": false,
     "grade_id": "cell-bea11a6380a836e3",
     "locked": true,
     "schema_version": 1,
     "solution": false
    }
   }
  },
  {
   "cell_type": "markdown",
   "source": [
    "### **Wrapping up!** \n",
    "\n",
    "Congratulations, you have completed the Capstone project! In Assignment 1 (Module 1), you designed the reward function for the Lunar Lander environment. In Assignment 2 (Module 4), you implemented your Expected Sarsa agent with a neural network and Adam optimizer. In Assignment 3 (Module 5), you conducted a careful parameter study and examined the effect of changing the step size parameter on the performance of the agent. Thanks for sticking with us throughout the specialization! At this point, you should have a solid foundation for formulating your own reinforcement learning problems, understanding advanced topics in reinforcement learning, and even pursuing graduate studies."
   ],
   "metadata": {
    "deletable": false,
    "editable": false,
    "nbgrader": {
     "checksum": "38d99423e3c815b5748f4cd8d920a6d2",
     "grade": false,
     "grade_id": "cell-cc391c0e03ced2bb",
     "locked": true,
     "schema_version": 1,
     "solution": false
    }
   }
  }
 ],
 "metadata": {
  "coursera": {
   "course_slug": "complete-reinforcement-learning-system",
   "graded_item_id": "h4ZLq",
   "launcher_item_id": "rbt6a"
  },
  "kernelspec": {
   "name": "python3",
   "display_name": "Python 3.7.8 64-bit"
  },
  "language_info": {
   "codemirror_mode": {
    "name": "ipython",
    "version": 3
   },
   "file_extension": ".py",
   "mimetype": "text/x-python",
   "name": "python",
   "nbconvert_exporter": "python",
   "pygments_lexer": "ipython3",
   "version": "3.7.8"
  },
  "interpreter": {
   "hash": "57baa5815c940fdaff4d14510622de9616cae602444507ba5d0b6727c008cbd6"
  }
 },
 "nbformat": 4,
 "nbformat_minor": 2
}